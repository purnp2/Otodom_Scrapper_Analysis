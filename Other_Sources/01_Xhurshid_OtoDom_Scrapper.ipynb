{
 "cells": [
  {
   "cell_type": "code",
   "execution_count": 1,
   "metadata": {},
   "outputs": [
    {
     "name": "stdout",
     "output_type": "stream",
     "text": [
      "<a dir=\"ltr\" href=\"https://www.google.com/maps/@52.3522606,21.0389229,12z/data=!10m1!1e1!12b1?source=apiv3&amp;rapsrc=apiv3\" rel=\"noopener\" style=\"font-family: Roboto, Arial, sans-serif; font-size: 10px; color: rgb(0, 0, 0); text-decoration: none; position: relative;\" target=\"_blank\" title=\"Zgłoś do Google błędy na mapie drogowej lub na zdjęciach.\">Zgłoś błąd w mapach</a>\n"
     ]
    }
   ],
   "source": [
    "from selenium import webdriver\n",
    "from bs4 import BeautifulSoup\n",
    "from selenium.webdriver.chrome.service import Service\n",
    "from webdriver_manager.chrome import ChromeDriverManager\n",
    "from selenium.webdriver.common.by import By\n",
    "from selenium.webdriver.support.ui import WebDriverWait\n",
    "from selenium.webdriver.support import expected_conditions as EC\n",
    "import time\n",
    "\n",
    "driver = webdriver.Firefox()\n",
    "url = 'https://www.otodom.pl/pl/oferta/2-pokojowe-mieszkanie-37m2-balkon-ID4oXEA'\n",
    "\n",
    "def get_data_from_home_page(home_page_url):\n",
    "    driver.get(home_page_url)\n",
    "    # Scroll to the end of the page\n",
    "    driver.execute_script(\"window.scrollTo(0, document.body.scrollHeight);\")\n",
    "    # Wait for the page to load\n",
    "    time.sleep(5)\n",
    "    # find button id onetrust-accept-btn-handler and click it\n",
    "    button = driver.find_element(By.ID, \"onetrust-accept-btn-handler\")\n",
    "    button.click()\n",
    "    \n",
    "\n",
    "    # Get page source and parse it\n",
    "    soup = BeautifulSoup(driver.page_source, 'html.parser')\n",
    "    anchor_ele = soup.find('a', title=\"Zgłoś do Google błędy na mapie drogowej lub na zdjęciach.\")\n",
    "    # wait if anchor_ele is None\n",
    "\n",
    "    # find the button with id \"map\" and click it\n",
    "    button = driver.find_element(By.ID, \"map\")\n",
    "    button.click()\n",
    "\n",
    "    while anchor_ele is None:\n",
    "        time.sleep(5)\n",
    "        soup = BeautifulSoup(driver.page_source, 'html.parser')\n",
    "        anchor_ele = soup.find('a', title=\"Zgłoś do Google błędy na mapie drogowej lub na zdjęciach.\")\n",
    "        if anchor_ele:\n",
    "            break\n",
    "        else:\n",
    "            continue\n",
    "    return anchor_ele\n",
    "print(get_data_from_home_page(url))\n",
    "\n"
   ]
  }
 ],
 "metadata": {
  "kernelspec": {
   "display_name": "base",
   "language": "python",
   "name": "python3"
  },
  "language_info": {
   "codemirror_mode": {
    "name": "ipython",
    "version": 3
   },
   "file_extension": ".py",
   "mimetype": "text/x-python",
   "name": "python",
   "nbconvert_exporter": "python",
   "pygments_lexer": "ipython3",
   "version": "3.11.7"
  }
 },
 "nbformat": 4,
 "nbformat_minor": 2
}
