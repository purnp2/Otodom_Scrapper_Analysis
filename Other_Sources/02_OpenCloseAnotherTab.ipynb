{
 "cells": [
  {
   "cell_type": "code",
   "execution_count": 2,
   "metadata": {},
   "outputs": [],
   "source": [
    "from seleniumwire import webdriver\n",
    "import time"
   ]
  },
  {
   "cell_type": "code",
   "execution_count": null,
   "metadata": {},
   "outputs": [],
   "source": [
    "# Define the URL's we will open and a few other variables \n",
    "main_url = 'https://www.linkedin.com' # URL A\n",
    "tab_url = 'https://www.google.com' # URL B\n",
    "# chromedriver = 'DESCTINATION_TO_YOUR_CHROME_DRIVER'\n",
    "# Open main window with URL A\n",
    "browser = webdriver.Firefox()\n",
    "browser.get(main_url)\n",
    "print(\"Current Page Title is : %s\" %browser.title)\n",
    "time.sleep(2)\n",
    "# Open a new window\n",
    "browser.execute_script(\"window.open('');\")\n",
    "# Switch to the new window and open URL B\n",
    "browser.switch_to.window(browser.window_handles[1])\n",
    "browser.get(tab_url)\n",
    "# …Do something here\n",
    "print(\"Current Page Title is : %s\" %browser.title)\n",
    "time.sleep(2)\n",
    "# Close the tab with URL B\n",
    "browser.close()\n",
    "time.sleep(2)\n",
    "# Switch back to the first tab with URL A\n",
    "browser.switch_to.window(browser.window_handles[0])\n",
    "print(\"Current Page Title is : %s\" %browser.title)\n",
    "time.sleep(2)\n",
    "browser.close()"
   ]
  }
 ],
 "metadata": {
  "kernelspec": {
   "display_name": "base",
   "language": "python",
   "name": "python3"
  },
  "language_info": {
   "codemirror_mode": {
    "name": "ipython",
    "version": 3
   },
   "file_extension": ".py",
   "mimetype": "text/x-python",
   "name": "python",
   "nbconvert_exporter": "python",
   "pygments_lexer": "ipython3",
   "version": "3.11.7"
  }
 },
 "nbformat": 4,
 "nbformat_minor": 2
}
