{
 "cells": [
  {
   "cell_type": "code",
   "execution_count": 1,
   "metadata": {},
   "outputs": [
    {
     "name": "stdout",
     "output_type": "stream",
     "text": [
      "   Balcony  Elevator  Garage  Terrace\n",
      "0        0         0       1        1\n",
      "1        1         1       0        0\n",
      "2        1         1       0        0\n",
      "3        1         0       0        0\n"
     ]
    }
   ],
   "source": [
    "import pandas as pd\n",
    "from sklearn.preprocessing import MultiLabelBinarizer\n",
    "\n",
    "# Sample DataFrame\n",
    "data = {\n",
    "    'balcony_garden_terrace': [\"Terrace, Garage\", \"Balcony, Elevator\", \"Balcony, Elevator, Balcony, Elevator\", \"Balcony\"]\n",
    "}\n",
    "df = pd.DataFrame(data)\n",
    "\n",
    "# Step 1: Split the strings into lists\n",
    "df['balcony_garden_terrace'] = df['balcony_garden_terrace'].apply(lambda x: x.split(', '))\n",
    "\n",
    "# Step 2: Apply MultiLabelBinarizer\n",
    "mlb = MultiLabelBinarizer()\n",
    "one_hot_encoded = mlb.fit_transform(df['balcony_garden_terrace'])\n",
    "\n",
    "# Create a DataFrame with the one-hot encoded columns\n",
    "one_hot_encoded_df = pd.DataFrame(one_hot_encoded, columns=mlb.classes_)\n",
    "\n",
    "# Step 3: Combine the one-hot encoded columns with the original DataFrame\n",
    "df = df.drop('balcony_garden_terrace', axis=1)\n",
    "df = pd.concat([df, one_hot_encoded_df], axis=1)\n",
    "\n",
    "# Display the resulting DataFrame\n",
    "print(df)\n"
   ]
  },
  {
   "cell_type": "code",
   "execution_count": null,
   "metadata": {},
   "outputs": [],
   "source": [
    "from sklearn.preprocessing import MultiLabelBinarizer\n",
    "\n",
    "df2 = df['balcony_garden_terrace']\n",
    "\n",
    "# Step 1: Split the strings into lists\n",
    "df2 = df2.apply(lambda x: x.split(', '))\n",
    "\n",
    "# Step 2: Apply MultiLabelBinarizer\n",
    "mlb = MultiLabelBinarizer()\n",
    "one_hot_encoded = mlb.fit_transform(df2)\n",
    "\n",
    "# Create a DataFrame with the one-hot encoded columns\n",
    "one_hot_encoded_df = pd.DataFrame(one_hot_encoded, columns=mlb.classes_)\n",
    "\n",
    "# Step 3: Combine the one-hot encoded columns with the original DataFrame\n",
    "df3 = pd.concat([df, one_hot_encoded_df], axis=1)\n",
    "\n",
    "df3 = df3.drop([\"balcony_garden_terrace\"],axis=1)\n",
    "\n",
    "# Display the resulting DataFrame\n",
    "df3"
   ]
  }
 ],
 "metadata": {
  "kernelspec": {
   "display_name": "base",
   "language": "python",
   "name": "python3"
  },
  "language_info": {
   "codemirror_mode": {
    "name": "ipython",
    "version": 3
   },
   "file_extension": ".py",
   "mimetype": "text/x-python",
   "name": "python",
   "nbconvert_exporter": "python",
   "pygments_lexer": "ipython3",
   "version": "3.11.7"
  }
 },
 "nbformat": 4,
 "nbformat_minor": 2
}
